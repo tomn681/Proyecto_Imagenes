{
 "cells": [
  {
   "cell_type": "markdown",
   "id": "0ecfaeb3",
   "metadata": {},
   "source": [
    "# Config"
   ]
  },
  {
   "cell_type": "code",
   "execution_count": null,
   "id": "2d63e709",
   "metadata": {},
   "outputs": [],
   "source": [
    "'''\n",
    "Standard Configuration:\n",
    "    \n",
    "    - use_gpu: (Bool) If False, training on CPU\n",
    "                \n",
    "    - num_classes: (Int) Number of classes on \n",
    "                dataset + 1 (Class 0 represents \n",
    "                backround)\n",
    "                \n",
    "    - test_batch_size: (Int) Batch size used\n",
    "                while evaluating over test_set\n",
    "                \n",
    "    - dataset_path: Annotations file directory path. \n",
    "    \n",
    "                Directory must contain files:\n",
    "                \n",
    "                  File Name:                File Column Data:\n",
    "                    - 'test.txt':               (String) Path\n",
    "                    - 'test_bbox.txt':          (Int, Int, Int, Int) X1, Y1, X2, Y2\n",
    "                    - 'test_cate.txt':          (Int) Class\n",
    "                    - 'train.txt':              (String) Path\n",
    "                    - 'train_bbox.txt':         (Int, Int, Int, Int) X1, Y1, X2, Y2\n",
    "                    - 'train_cate.txt':         (Int) Class\n",
    "                    - 'val.txt':                (String) Path\n",
    "                    - 'val_bbox.txt':           (Int, Int, Int, Int) X1, Y1, X2, Y2 \n",
    "                    - 'val_cate.txt':           (Int) Class\n",
    "                \n",
    "    - load_model: (String) Saved model path. \n",
    "                Locates the model to evaluate.\n",
    "'''\n",
    "\n",
    "use_gpu = True\n",
    "\n",
    "num_classes = 50\n",
    "\n",
    "test_batch_size = 16\n",
    "\n",
    "dataset_path = '../data/Annotations/'\n",
    "\n",
    "load_model = './checkpoints/retinanet_base_8.pt'"
   ]
  },
  {
   "cell_type": "markdown",
   "id": "64e63994",
   "metadata": {},
   "source": [
    "# Dataset"
   ]
  },
  {
   "cell_type": "code",
   "execution_count": null,
   "id": "39b85fc4",
   "metadata": {},
   "outputs": [],
   "source": [
    "from utils import dataset"
   ]
  },
  {
   "cell_type": "code",
   "execution_count": null,
   "id": "a7e1cc71",
   "metadata": {},
   "outputs": [],
   "source": [
    "test_set = dataset.ClothingDataset(dataset_path, train='test')\n",
    "#test_set.imgs.drop(test_set.imgs[test_set.imgs['class']!=15].index, inplace=True)\n",
    "#test_set.imgs.reset_index(drop=True, inplace=True)"
   ]
  },
  {
   "cell_type": "code",
   "execution_count": null,
   "id": "9e147a3b",
   "metadata": {},
   "outputs": [],
   "source": [
    "len(test_set.imgs)"
   ]
  },
  {
   "cell_type": "code",
   "execution_count": null,
   "id": "577c9e4a",
   "metadata": {},
   "outputs": [],
   "source": [
    "test_set.plot()"
   ]
  },
  {
   "cell_type": "markdown",
   "id": "81b7fa9c",
   "metadata": {},
   "source": [
    "# Evaluate"
   ]
  },
  {
   "cell_type": "code",
   "execution_count": null,
   "id": "d2a42ac7",
   "metadata": {},
   "outputs": [],
   "source": [
    "import torch\n",
    "import numpy as np\n",
    "import matplotlib.pyplot as plt\n",
    "\n",
    "from utils import trainer, evaluator"
   ]
  },
  {
   "cell_type": "code",
   "execution_count": null,
   "id": "37ef7f60",
   "metadata": {},
   "outputs": [],
   "source": [
    "model = torch.load(load_model)"
   ]
  },
  {
   "cell_type": "code",
   "execution_count": null,
   "id": "3a46ae18",
   "metadata": {},
   "outputs": [],
   "source": [
    "'''\n",
    "Evaluator Builder\n",
    "\n",
    "    Creates an Evaluator Object with the given model and parameters.\n",
    "    \n",
    "    An Evaluator Object is a simple implementation of NN evaluator for\n",
    "    object detection. It implements the ability plot real and predicted \n",
    "    class and box values. It also allows to calculate the classification\n",
    "    accuracy and the mean box IoU.\n",
    "'''\n",
    "\n",
    "evaluate = evaluator.Evaluator(model, test_set, n_classes=num_classes, batch_size=test_batch_size, use_gpu=use_gpu)"
   ]
  },
  {
   "cell_type": "code",
   "execution_count": null,
   "id": "42c4f011",
   "metadata": {},
   "outputs": [],
   "source": [
    "'''\n",
    "Show 10 images with their real and \n",
    "predicted values.\n",
    "'''\n",
    "\n",
    "evaluate.plot()"
   ]
  },
  {
   "cell_type": "code",
   "execution_count": null,
   "id": "4a484ab9",
   "metadata": {},
   "outputs": [],
   "source": [
    "'''\n",
    "Run over test_set to obtain the\n",
    "classification accuracy and mean \n",
    "box IoU.\n",
    "'''\n",
    "\n",
    "evaluate.evaluate()"
   ]
  }
 ],
 "metadata": {
  "kernelspec": {
   "display_name": "Python 3 (ipykernel)",
   "language": "python",
   "name": "python3"
  },
  "language_info": {
   "codemirror_mode": {
    "name": "ipython",
    "version": 3
   },
   "file_extension": ".py",
   "mimetype": "text/x-python",
   "name": "python",
   "nbconvert_exporter": "python",
   "pygments_lexer": "ipython3",
   "version": "3.8.10"
  }
 },
 "nbformat": 4,
 "nbformat_minor": 5
}
